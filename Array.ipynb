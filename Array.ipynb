{
  "nbformat": 4,
  "nbformat_minor": 0,
  "metadata": {
    "colab": {
      "provenance": [],
      "authorship_tag": "ABX9TyPFufi7Ztfk6n9z+t3m7ziH",
      "include_colab_link": true
    },
    "kernelspec": {
      "name": "python3",
      "display_name": "Python 3"
    },
    "language_info": {
      "name": "python"
    }
  },
  "cells": [
    {
      "cell_type": "markdown",
      "metadata": {
        "id": "view-in-github",
        "colab_type": "text"
      },
      "source": [
        "<a href=\"https://colab.research.google.com/github/Willianfs1/Projeto-curso/blob/main/Array.ipynb\" target=\"_parent\"><img src=\"https://colab.research.google.com/assets/colab-badge.svg\" alt=\"Open In Colab\"/></a>"
      ]
    },
    {
      "cell_type": "code",
      "execution_count": 7,
      "metadata": {
        "colab": {
          "base_uri": "https://localhost:8080/"
        },
        "id": "4qvnsMLoU6Md",
        "outputId": "59fbfa95-6476-4e8c-8e64-5f0aa4a72b8b"
      },
      "outputs": [
        {
          "output_type": "stream",
          "name": "stdout",
          "text": [
            "['banana', 'morango', 'abacaxi']\n"
          ]
        }
      ],
      "source": [
        "listaDeFrutas = ['banana', 'pessego', 'abacaxi', ]\n",
        "\n",
        "listaDeFrutas[1] = 'morango'\n",
        "\n",
        "print(listaDeFrutas)"
      ]
    },
    {
      "cell_type": "code",
      "source": [],
      "metadata": {
        "id": "aoDWQrjqb1fm"
      },
      "execution_count": null,
      "outputs": []
    }
  ]
}