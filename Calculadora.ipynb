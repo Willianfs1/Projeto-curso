{
  "nbformat": 4,
  "nbformat_minor": 0,
  "metadata": {
    "colab": {
      "provenance": [],
      "authorship_tag": "ABX9TyNlb3V4mRrh3U2wGURQP193",
      "include_colab_link": true
    },
    "kernelspec": {
      "name": "python3",
      "display_name": "Python 3"
    },
    "language_info": {
      "name": "python"
    }
  },
  "cells": [
    {
      "cell_type": "markdown",
      "metadata": {
        "id": "view-in-github",
        "colab_type": "text"
      },
      "source": [
        "<a href=\"https://colab.research.google.com/github/Willianfs1/Projeto-curso/blob/main/Calculadora.ipynb\" target=\"_parent\"><img src=\"https://colab.research.google.com/assets/colab-badge.svg\" alt=\"Open In Colab\"/></a>"
      ]
    },
    {
      "cell_type": "code",
      "execution_count": 16,
      "metadata": {
        "id": "KP_JX93cqRpv"
      },
      "outputs": [],
      "source": [
        "def calculadora(num1, num2, operacao):\n",
        "    if operacao == 1:  # Soma\n",
        "        resultado = num1 + num2\n",
        "    elif operacao == 2:  # Subtração\n",
        "        resultado = num1 - num2\n",
        "    elif operacao == 3:  # Multiplicação\n",
        "        resultado = num1 * num2\n",
        "    elif operacao == 4:  # Divisão\n",
        "        if num2 != 0:  # Verificação para evitar divisão por zero\n",
        "            resultado = num1 / num2\n",
        "        else:\n",
        "            print(\"Erro: Divisão por zero!\")\n",
        "            return None\n",
        "    else:\n",
        "        print(\"Operação inválida\")\n",
        "        resultado = 0\n",
        "\n",
        "    return resultado"
      ]
    }
  ]
}