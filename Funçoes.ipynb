{
  "nbformat": 4,
  "nbformat_minor": 0,
  "metadata": {
    "colab": {
      "provenance": [],
      "authorship_tag": "ABX9TyNuPaI15RvoA6xz0/bN0hOC",
      "include_colab_link": true
    },
    "kernelspec": {
      "name": "python3",
      "display_name": "Python 3"
    },
    "language_info": {
      "name": "python"
    }
  },
  "cells": [
    {
      "cell_type": "markdown",
      "metadata": {
        "id": "view-in-github",
        "colab_type": "text"
      },
      "source": [
        "<a href=\"https://colab.research.google.com/github/Willianfs1/Projeto-curso/blob/main/Fun%C3%A7oes.ipynb\" target=\"_parent\"><img src=\"https://colab.research.google.com/assets/colab-badge.svg\" alt=\"Open In Colab\"/></a>"
      ]
    },
    {
      "cell_type": "code",
      "execution_count": 14,
      "metadata": {
        "colab": {
          "base_uri": "https://localhost:8080/"
        },
        "id": "fdWhGHNv0Vi6",
        "outputId": "150a1ede-6244-4999-a789-fd4b71ffa7cd"
      },
      "outputs": [
        {
          "output_type": "stream",
          "name": "stdout",
          "text": [
            "Digite um numero de 0 a 100 101\n",
            "Você precisa digitar um numero entre 0 a 100\n"
          ]
        }
      ],
      "source": [
        "def mostrarNumero():\n",
        "  numero = int(input('Digite um numero de 0 a 100 '))\n",
        "\n",
        "  if (numero > 100):\n",
        "    print('Você precisa digitar um numero entre 0 a 100')\n",
        "  else:\n",
        "    print('uhuu , você acertou, escolhendo o numero', numero)\n",
        "\n",
        "\n",
        "mostrarNumero()\n"
      ]
    }
  ]
}