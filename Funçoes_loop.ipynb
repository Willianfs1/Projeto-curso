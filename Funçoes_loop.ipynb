{
  "nbformat": 4,
  "nbformat_minor": 0,
  "metadata": {
    "colab": {
      "provenance": [],
      "authorship_tag": "ABX9TyNnnk31upELFHAGpPPlNE2U",
      "include_colab_link": true
    },
    "kernelspec": {
      "name": "python3",
      "display_name": "Python 3"
    },
    "language_info": {
      "name": "python"
    }
  },
  "cells": [
    {
      "cell_type": "markdown",
      "metadata": {
        "id": "view-in-github",
        "colab_type": "text"
      },
      "source": [
        "<a href=\"https://colab.research.google.com/github/Willianfs1/Projeto-curso/blob/main/Fun%C3%A7oes_loop.ipynb\" target=\"_parent\"><img src=\"https://colab.research.google.com/assets/colab-badge.svg\" alt=\"Open In Colab\"/></a>"
      ]
    },
    {
      "cell_type": "code",
      "execution_count": 29,
      "metadata": {
        "colab": {
          "base_uri": "https://localhost:8080/"
        },
        "id": "fdWhGHNv0Vi6",
        "outputId": "b1fab7a2-85e1-4980-ddee-aaa4449f463e"
      },
      "outputs": [
        {
          "output_type": "stream",
          "name": "stdout",
          "text": [
            "Digite um numero de 0 a 100 200\n",
            "Você precisa digitar um numero entre 0 a 100 :\n",
            "Digite um numero de 0 a 100 101\n",
            "Você precisa digitar um numero entre 0 a 100 :\n",
            "Digite um numero de 0 a 100 78\n",
            "uhuu , você acertou, escolhendo o numero 78\n"
          ]
        }
      ],
      "source": [
        "def mostrarNumero():\n",
        "  numeroValido = False\n",
        "\n",
        "  while(numeroValido == False):\n",
        "    numero = int(input('Digite um numero de 0 a 100 '))\n",
        "\n",
        "    if (numero > 100):\n",
        "     print('Você precisa digitar um numero entre 0 a 100 :')\n",
        "    else:\n",
        "     print('uhuu , você acertou, escolhendo o numero', numero)\n",
        "     numeroValido = True\n",
        "\n",
        "mostrarNumero()\n",
        "\n",
        "\n"
      ]
    },
    {
      "cell_type": "code",
      "source": [],
      "metadata": {
        "id": "GRb2YBxB_K1S"
      },
      "execution_count": null,
      "outputs": []
    }
  ]
}