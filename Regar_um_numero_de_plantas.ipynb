{
  "nbformat": 4,
  "nbformat_minor": 0,
  "metadata": {
    "colab": {
      "provenance": [],
      "authorship_tag": "ABX9TyOKGN8gqsxO3DRmej6PESsd",
      "include_colab_link": true
    },
    "kernelspec": {
      "name": "python3",
      "display_name": "Python 3"
    },
    "language_info": {
      "name": "python"
    }
  },
  "cells": [
    {
      "cell_type": "markdown",
      "metadata": {
        "id": "view-in-github",
        "colab_type": "text"
      },
      "source": [
        "<a href=\"https://colab.research.google.com/github/Willianfs1/Projeto-curso/blob/main/Regar_um_numero_de_plantas.ipynb\" target=\"_parent\"><img src=\"https://colab.research.google.com/assets/colab-badge.svg\" alt=\"Open In Colab\"/></a>"
      ]
    },
    {
      "cell_type": "code",
      "execution_count": 9,
      "metadata": {
        "colab": {
          "base_uri": "https://localhost:8080/"
        },
        "id": "pyh0HgjUhG4G",
        "outputId": "cd05402d-8596-41cd-d193-6672a62e530a"
      },
      "outputs": [
        {
          "output_type": "stream",
          "name": "stdout",
          "text": [
            "Regue a planta de numero: 1\n",
            "Regue a planta de numero: 2\n",
            "Regue a planta de numero: 3\n",
            "Regue a planta de numero: 4\n",
            "Regue a planta de numero: 5\n",
            "Regue a planta de numero: 6\n",
            "Regue a planta de numero: 7\n",
            "Regue a planta de numero: 8\n",
            "Regue a planta de numero: 9\n"
          ]
        }
      ],
      "source": [
        "for i in range (1, 10):\n",
        "   print('Regue a planta de numero:' , i)\n"
      ]
    }
  ]
}